{
  "nbformat": 4,
  "nbformat_minor": 0,
  "metadata": {
    "colab": {
      "name": "QC_Introduction_Exercises.ipynb",
      "provenance": [],
      "include_colab_link": true
    },
    "kernelspec": {
      "display_name": "Python 3",
      "language": "python",
      "name": "python3"
    },
    "language_info": {
      "codemirror_mode": {
        "name": "ipython",
        "version": 3
      },
      "file_extension": ".py",
      "mimetype": "text/x-python",
      "name": "python",
      "nbconvert_exporter": "python",
      "pygments_lexer": "ipython3",
      "version": "3.8.3"
    }
  },
  "cells": [
    {
      "cell_type": "markdown",
      "metadata": {
        "id": "view-in-github",
        "colab_type": "text"
      },
      "source": [
        "<a href=\"https://colab.research.google.com/github/daniloefl/quantumMC/blob/master/QC_Introduction_Exercises.ipynb\" target=\"_parent\"><img src=\"https://colab.research.google.com/assets/colab-badge.svg\" alt=\"Open In Colab\"/></a>"
      ]
    },
    {
      "cell_type": "markdown",
      "metadata": {
        "id": "_24gBpgYgn3f"
      },
      "source": [
        "# Install requirements"
      ]
    },
    {
      "cell_type": "code",
      "metadata": {
        "id": "USL3adEMgn3j"
      },
      "source": [
        "!pip install qiskit\n",
        "!pip install pylatexenc\n",
        "\n",
        "from IPython.display import clear_output\n",
        "clear_output()"
      ],
      "execution_count": 1,
      "outputs": []
    },
    {
      "cell_type": "code",
      "metadata": {
        "id": "KUvWRatJgn3t",
        "outputId": "16902018-2ddd-40c3-a327-ae5d425a58cb",
        "colab": {
          "base_uri": "https://localhost:8080/"
        }
      },
      "source": [
        "import qiskit\n",
        "qiskit.__qiskit_version__"
      ],
      "execution_count": 2,
      "outputs": [
        {
          "output_type": "execute_result",
          "data": {
            "text/plain": [
              "{'qiskit': None,\n",
              " 'qiskit-aer': '0.7.0',\n",
              " 'qiskit-aqua': '0.8.0',\n",
              " 'qiskit-ibmq-provider': '0.11.0',\n",
              " 'qiskit-ignis': '0.5.0',\n",
              " 'qiskit-terra': '0.16.0'}"
            ]
          },
          "metadata": {
            "tags": []
          },
          "execution_count": 2
        }
      ]
    },
    {
      "cell_type": "markdown",
      "metadata": {
        "id": "BfcIp0xTgn35"
      },
      "source": [
        "# 1.EXAMPLE -  Hadamard Gate"
      ]
    },
    {
      "cell_type": "markdown",
      "metadata": {
        "id": "dzr-SwXDgn36"
      },
      "source": [
        "The Hadamard Gate takes as input one single qubit. The output state will have equal probabilities to become 1 or 0 when measured\n",
        "\n",
        "Example: if  $\\vert0\\rangle$ is INPUT ------> OUTPUT will be $$\\frac{1}{\\sqrt{2}}\\left(\\vert0\\rangle + \\vert1\\rangle\\right)$$\n",
        "\n",
        "Before applying the Hadamard Gate, set a one circuit qubit"
      ]
    },
    {
      "cell_type": "code",
      "metadata": {
        "id": "GnQORwsHgn38",
        "outputId": "0cb4ea9b-cfb0-4758-ecc0-cfea6dfd8004",
        "colab": {
          "base_uri": "https://localhost:8080/",
          "height": 95
        }
      },
      "source": [
        "from qiskit import QuantumCircuit\n",
        "\n",
        "circuit = QuantumCircuit(1)\n",
        "circuit.draw('mpl')"
      ],
      "execution_count": 3,
      "outputs": [
        {
          "output_type": "execute_result",
          "data": {
            "image/png": "[encoded data removed]",
            "text/plain": [
              "<Figure size 73.326x84.28 with 1 Axes>"
            ]
          },
          "metadata": {
            "tags": []
          },
          "execution_count": 3
        }
      ]
    },
    {
      "cell_type": "markdown",
      "metadata": {
        "id": "QoPXut0Ygn4B"
      },
      "source": [
        "Then initialize the state to $\\vert0\\rangle$\n"
      ]
    },
    {
      "cell_type": "code",
      "metadata": {
        "id": "dY3_0iRWgn4C"
      },
      "source": [
        "from qiskit.quantum_info import Statevector\n",
        "\n",
        "qubit = Statevector.from_label('0')"
      ],
      "execution_count": 4,
      "outputs": []
    },
    {
      "cell_type": "markdown",
      "metadata": {
        "id": "FR6WHdSugn4G"
      },
      "source": [
        "Then apply the Hadamard gate"
      ]
    },
    {
      "cell_type": "code",
      "metadata": {
        "id": "5nG1fpbCgn4H",
        "outputId": "1cf7d6b9-f59b-4de9-8c62-de83cfd91a00",
        "colab": {
          "base_uri": "https://localhost:8080/",
          "height": 95
        }
      },
      "source": [
        "circuit = QuantumCircuit(1)\n",
        "circuit.h(0)\n",
        "circuit.draw('mpl')"
      ],
      "execution_count": 5,
      "outputs": [
        {
          "output_type": "execute_result",
          "data": {
            "image/png": "[encoded data removed]",
            "text/plain": [
              "<Figure size 133.526x84.28 with 1 Axes>"
            ]
          },
          "metadata": {
            "tags": []
          },
          "execution_count": 5
        }
      ]
    },
    {
      "cell_type": "code",
      "metadata": {
        "id": "knEj3SBMgn4K",
        "outputId": "fed011f3-3172-475b-b4fc-6bdb298ff6be",
        "colab": {
          "base_uri": "https://localhost:8080/",
          "height": 364
        }
      },
      "source": [
        "final_qubit = qubit.evolve(circuit)\n",
        "print(final_qubit)\n",
        "\n",
        "\n",
        "counts = final_qubit.sample_counts(shots=1000)\n",
        "\n",
        "from qiskit.visualization import plot_histogram\n",
        "plot_histogram(counts)"
      ],
      "execution_count": 6,
      "outputs": [
        {
          "output_type": "stream",
          "text": [
            "Statevector([0.70710678+0.j, 0.70710678+0.j],\n",
            "            dims=(2,))\n"
          ],
          "name": "stdout"
        },
        {
          "output_type": "execute_result",
          "data": {
            "image/png": "[encoded data removed]",
            "text/plain": [
              "<Figure size 504x360 with 1 Axes>"
            ]
          },
          "metadata": {
            "tags": []
          },
          "execution_count": 6
        }
      ]
    },
    {
      "cell_type": "markdown",
      "metadata": {
        "id": "cD-dVuNWSwO5"
      },
      "source": [
        "# 1. EXAMPLE WITH ALTERNATIVE INITIALIZATION"
      ]
    },
    {
      "cell_type": "code",
      "metadata": {
        "id": "nBwkBXn8SwO6",
        "outputId": "bf25fb57-d28d-48d2-dceb-181a62877d6d",
        "colab": {
          "base_uri": "https://localhost:8080/",
          "height": 327
        }
      },
      "source": [
        "import numpy as np\n",
        "from qiskit import QuantumCircuit, QuantumRegister, ClassicalRegister, execute, BasicAer, Aer\n",
        "from qiskit.visualization import plot_histogram, plot_bloch_multivector\n",
        "from qiskit.extensions import Initialize\n",
        "\n",
        "qc = QuantumCircuit(1, 1)\n",
        "# with this syntax, qubits are implicitly initialized to |0>\n",
        "qc.h(0)\n",
        "qc.measure(0,0)\n",
        "\n",
        "simulator = Aer.get_backend('qasm_simulator')\n",
        "result = execute(qc, simulator, shots=10000).result()\n",
        "counts = result.get_counts(qc)\n",
        "plot_histogram(counts)"
      ],
      "execution_count": 7,
      "outputs": [
        {
          "output_type": "execute_result",
          "data": {
            "image/png": "[encoded data removed]",
            "text/plain": [
              "<Figure size 504x360 with 1 Axes>"
            ]
          },
          "metadata": {
            "tags": []
          },
          "execution_count": 7
        }
      ]
    },
    {
      "cell_type": "markdown",
      "metadata": {
        "id": "5rQabK4cgn4O"
      },
      "source": [
        "# 1.EXERCISE"
      ]
    },
    {
      "cell_type": "markdown",
      "metadata": {
        "id": "s5LlJSmDgn4O"
      },
      "source": [
        "### Let's replicate the previous example... but see what happens when we start from state $|1\\rangle$"
      ]
    },
    {
      "cell_type": "code",
      "metadata": {
        "id": "sHAQniuNgn4P",
        "outputId": "ba7bb5b0-3351-4a27-a165-0e9bcf1341e2",
        "colab": {
          "base_uri": "https://localhost:8080/",
          "height": 326
        }
      },
      "source": [
        "### WRITE YOUR CODE \n",
        "qc = QuantumCircuit(1, 1)\n",
        "# with this syntax, qubits are implicitly initialized to |0>\n",
        "qc.x(0)\n",
        "qc.h(0)\n",
        "qc.measure(0,0)\n",
        "\n",
        "simulator = Aer.get_backend('qasm_simulator')\n",
        "result = execute(qc, simulator, shots=10000).result()\n",
        "counts = result.get_counts(qc)\n",
        "plot_histogram(counts)"
      ],
      "execution_count": 12,
      "outputs": [
        {
          "output_type": "execute_result",
          "data": {
            "image/png": "[encoded data removed]",
            "text/plain": [
              "<Figure size 504x360 with 1 Axes>"
            ]
          },
          "metadata": {
            "tags": []
          },
          "execution_count": 12
        }
      ]
    },
    {
      "cell_type": "markdown",
      "metadata": {
        "id": "jEAsui84gn4R"
      },
      "source": [
        "# 2.EXAMPLE - MultiQubit, Entanglement and Bell States"
      ]
    },
    {
      "cell_type": "markdown",
      "metadata": {
        "id": "MlmWZewWgn4S"
      },
      "source": [
        "### Multiqubit"
      ]
    },
    {
      "cell_type": "markdown",
      "metadata": {
        "id": "19O46vYbgn4S"
      },
      "source": [
        "A multiqubit state is a state of 2 or more qubits.\n",
        "With n qubits, it can be a superposition of $2^n$ different states.\n",
        "\n",
        "Example:\n",
        "two bits have four possible states:\n",
        "\n",
        "`00` `01` `10` `11`\n",
        "\n",
        "the state of two qubits is a linear combination of 4 different states. We store these amplitudes in a 4D-vector like so:\n",
        "\n",
        "$$ |q_1q_2\\rangle = a_{00}|00\\rangle + a_{01}|01\\rangle + a_{10}|10\\rangle + a_{11}|11\\rangle = \\begin{bmatrix} a_{00} \\\\ a_{01} \\\\ a_{10} \\\\ a_{11} \\end{bmatrix} $$\n"
      ]
    },
    {
      "cell_type": "code",
      "metadata": {
        "id": "mRLx5UKNgn4S"
      },
      "source": [
        "sv = Statevector.from_label('00')"
      ],
      "execution_count": null,
      "outputs": []
    },
    {
      "cell_type": "code",
      "metadata": {
        "id": "tjP5yeRqgn4U"
      },
      "source": [
        "from qiskit import QuantumCircuit\n",
        "\n",
        "circuit = QuantumCircuit(2) # two qubit Quantum Circuit\n",
        "circuit.draw('mpl')"
      ],
      "execution_count": null,
      "outputs": []
    },
    {
      "cell_type": "markdown",
      "metadata": {
        "id": "r63qrZxHgn4X"
      },
      "source": [
        "### CNOT Gate - a multiqubit gate"
      ]
    },
    {
      "cell_type": "markdown",
      "metadata": {
        "id": "bVdJV_41gn4Y"
      },
      "source": [
        "The CNOT gate can be used to entangle two qubits. This gate flips the target qubit if and only if the control qubit is in state $\\vert1\\rangle$"
      ]
    },
    {
      "cell_type": "markdown",
      "metadata": {
        "id": "XV44aF1Ugn4Y"
      },
      "source": [
        "The way it works is similar to a Classical XOR GATE.\n",
        "\\\n",
        " We can use the classical truth table:\n",
        "\n",
        "| Input (t,c) | Output (t,c) |\n",
        "|:-----------:|:------------:|\n",
        "| 00          | 00           |\n",
        "| 01          | 11           |\n",
        "| 10          | 10           |\n",
        "| 11          | 01           |\n",
        "\n",
        "Let's apply CNOT GATE to our system: $|q_1q_2\\rangle$ "
      ]
    },
    {
      "cell_type": "markdown",
      "metadata": {
        "id": "g2xC4Q97gn4Y"
      },
      "source": [
        "A brief mathematical glimpse of what happens when we apply a CNOT GATE.\n",
        "\n",
        "The unitary matrix is a 4x4:\n",
        "\n",
        "\n",
        "$$\n",
        "\\text{CNOT} = \\begin{bmatrix} 1 & 0 & 0 & 0 \\\\\n",
        "                              0 & 1 & 0 & 0 \\\\\n",
        "                              0 & 0 & 0 & 1 \\\\\n",
        "                              0 & 0 & 1 & 0 \\\\\n",
        "              \\end{bmatrix}\n",
        "$$\n",
        "\n",
        "This matrix swaps the amplitudes of $|01\\rangle$ and $|11\\rangle$ in our statevector:\n",
        "\n",
        "$$ \n",
        "|a\\rangle = \\begin{bmatrix} a_{00} \\\\ a_{01} \\\\ a_{10} \\\\ a_{11} \\end{bmatrix}, \\quad \\text{CNOT}|a\\rangle = \\begin{bmatrix} a_{00} \\\\ a_{11} \\\\ a_{10} \\\\ a_{01} \\end{bmatrix} \\begin{matrix} \\\\ \\leftarrow \\\\ \\\\ \\leftarrow \\end{matrix}\n",
        "$$"
      ]
    },
    {
      "cell_type": "code",
      "metadata": {
        "id": "-LdNyLRJgn4Y"
      },
      "source": [
        "## Apply the CNOT gate to q0 (control) and use as target qubit q1\n",
        "circuit.cx(0,1)\n",
        "circuit.draw('mpl')"
      ],
      "execution_count": null,
      "outputs": []
    },
    {
      "cell_type": "markdown",
      "metadata": {
        "id": "z5OtPqr-gn4b"
      },
      "source": [
        "Physically speaking the CNOT gate allows us to entangle our two qubits"
      ]
    },
    {
      "cell_type": "markdown",
      "metadata": {
        "id": "AJsCea3jgn4c"
      },
      "source": [
        "### Bell States"
      ]
    },
    {
      "cell_type": "markdown",
      "metadata": {
        "id": "HVoTGQltgn4c"
      },
      "source": [
        "The Bell states are specific quantum states of two qubits that represent the simplest examples of quantum entanglement. We can create a bell state by using the following approach:"
      ]
    },
    {
      "cell_type": "code",
      "metadata": {
        "id": "AoiDukeFgn4d"
      },
      "source": [
        "circuit = QuantumCircuit(2)\n",
        "# Apply H-gate to the first:\n",
        "circuit.h(0)\n",
        "# Apply a CNOT:\n",
        "circuit.cx(0,1)\n",
        "circuit.draw('mpl')"
      ],
      "execution_count": null,
      "outputs": []
    },
    {
      "cell_type": "markdown",
      "metadata": {
        "id": "R54iXBOpgn4f"
      },
      "source": [
        "# 2.EXERCISE - Bell States, and 2 qubit Gates"
      ]
    },
    {
      "cell_type": "markdown",
      "metadata": {
        "id": "LyLi3v2qgn4f"
      },
      "source": [
        "### Create a quantum circuit that produces the Bell state: $\\tfrac{1}{\\sqrt{2}}(|01\\rangle + |10\\rangle)$\n",
        "\n",
        "Hint: reproduce the circuit drawn above, but initialize the system to $|11\\rangle$\n"
      ]
    },
    {
      "cell_type": "code",
      "metadata": {
        "id": "U8f-CqVagn4f"
      },
      "source": [
        "### WRITE QUANTUM CIRCUIT\n",
        "import numpy as np\n",
        "from qiskit import QuantumCircuit, QuantumRegister, ClassicalRegister, execute, BasicAer, Aer\n",
        "from qiskit.visualization import plot_histogram, plot_bloch_multivector\n",
        "from qiskit.extensions import Initialize\n",
        "\n",
        "# qc = ..."
      ],
      "execution_count": null,
      "outputs": []
    },
    {
      "cell_type": "code",
      "metadata": {
        "id": "YfBZHAKEgn5A"
      },
      "source": [
        ""
      ],
      "execution_count": null,
      "outputs": []
    }
  ]
}